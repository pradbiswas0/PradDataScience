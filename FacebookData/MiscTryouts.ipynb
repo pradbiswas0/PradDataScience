{
 "cells": [
  {
   "cell_type": "code",
   "execution_count": null,
   "id": "75d29f72",
   "metadata": {},
   "outputs": [],
   "source": [
    "import os\n",
    "from pathlib import Path\n",
    "directory=\"./\"\n",
    "#directory = os.fsencode(directory_in_str)\n",
    "    \n",
    "for file in os.listdir(directory):\n",
    "    filename = os.fsdecode(file)\n",
    "    if filename.endswith(\".edges\"): \n",
    "        #print(os.path.join(directory, filename))\n",
    "        print(Path(filename).stem)\n",
    "        continue\n",
    "    else:\n",
    "        continue"
   ]
  },
  {
   "cell_type": "code",
   "execution_count": 5,
   "id": "01c80422",
   "metadata": {},
   "outputs": [
    {
     "data": {
      "text/html": [
       "<div>\n",
       "<style scoped>\n",
       "    .dataframe tbody tr th:only-of-type {\n",
       "        vertical-align: middle;\n",
       "    }\n",
       "\n",
       "    .dataframe tbody tr th {\n",
       "        vertical-align: top;\n",
       "    }\n",
       "\n",
       "    .dataframe thead th {\n",
       "        text-align: right;\n",
       "    }\n",
       "</style>\n",
       "<table border=\"1\" class=\"dataframe\">\n",
       "  <thead>\n",
       "    <tr style=\"text-align: right;\">\n",
       "      <th></th>\n",
       "      <th>OriginNode</th>\n",
       "      <th>DestNode</th>\n",
       "    </tr>\n",
       "  </thead>\n",
       "  <tbody>\n",
       "    <tr>\n",
       "      <th>0</th>\n",
       "      <td>827</td>\n",
       "      <td>819</td>\n",
       "    </tr>\n",
       "    <tr>\n",
       "      <th>1</th>\n",
       "      <td>830</td>\n",
       "      <td>826</td>\n",
       "    </tr>\n",
       "    <tr>\n",
       "      <th>2</th>\n",
       "      <td>828</td>\n",
       "      <td>752</td>\n",
       "    </tr>\n",
       "    <tr>\n",
       "      <th>3</th>\n",
       "      <td>756</td>\n",
       "      <td>694</td>\n",
       "    </tr>\n",
       "    <tr>\n",
       "      <th>4</th>\n",
       "      <td>828</td>\n",
       "      <td>728</td>\n",
       "    </tr>\n",
       "    <tr>\n",
       "      <th>...</th>\n",
       "      <td>...</td>\n",
       "      <td>...</td>\n",
       "    </tr>\n",
       "    <tr>\n",
       "      <th>3307</th>\n",
       "      <td>856</td>\n",
       "      <td>729</td>\n",
       "    </tr>\n",
       "    <tr>\n",
       "      <th>3308</th>\n",
       "      <td>758</td>\n",
       "      <td>817</td>\n",
       "    </tr>\n",
       "    <tr>\n",
       "      <th>3309</th>\n",
       "      <td>819</td>\n",
       "      <td>848</td>\n",
       "    </tr>\n",
       "    <tr>\n",
       "      <th>3310</th>\n",
       "      <td>805</td>\n",
       "      <td>815</td>\n",
       "    </tr>\n",
       "    <tr>\n",
       "      <th>3311</th>\n",
       "      <td>830</td>\n",
       "      <td>819</td>\n",
       "    </tr>\n",
       "  </tbody>\n",
       "</table>\n",
       "<p>3312 rows × 2 columns</p>\n",
       "</div>"
      ],
      "text/plain": [
       "      OriginNode  DestNode\n",
       "0            827       819\n",
       "1            830       826\n",
       "2            828       752\n",
       "3            756       694\n",
       "4            828       728\n",
       "...          ...       ...\n",
       "3307         856       729\n",
       "3308         758       817\n",
       "3309         819       848\n",
       "3310         805       815\n",
       "3311         830       819\n",
       "\n",
       "[3312 rows x 2 columns]"
      ]
     },
     "execution_count": 5,
     "metadata": {},
     "output_type": "execute_result"
    }
   ],
   "source": [
    "df"
   ]
  },
  {
   "cell_type": "code",
   "execution_count": 4,
   "id": "afe488b8",
   "metadata": {},
   "outputs": [],
   "source": [
    "import pandas as pd\n",
    "df=pd.read_csv('686.edges',header=None)\n",
    "df.columns=['OriginNode','DestNode']"
   ]
  },
  {
   "cell_type": "code",
   "execution_count": 7,
   "id": "f7404751",
   "metadata": {},
   "outputs": [],
   "source": [
    "df1=pd.read_csv('3980.edges',sep=\" \",header=None)\n",
    "df1.columns=['OriginNode','DestNode']"
   ]
  },
  {
   "cell_type": "code",
   "execution_count": 8,
   "id": "86c9aa34",
   "metadata": {},
   "outputs": [
    {
     "data": {
      "text/html": [
       "<div>\n",
       "<style scoped>\n",
       "    .dataframe tbody tr th:only-of-type {\n",
       "        vertical-align: middle;\n",
       "    }\n",
       "\n",
       "    .dataframe tbody tr th {\n",
       "        vertical-align: top;\n",
       "    }\n",
       "\n",
       "    .dataframe thead th {\n",
       "        text-align: right;\n",
       "    }\n",
       "</style>\n",
       "<table border=\"1\" class=\"dataframe\">\n",
       "  <thead>\n",
       "    <tr style=\"text-align: right;\">\n",
       "      <th></th>\n",
       "      <th>OriginNode</th>\n",
       "      <th>DestNode</th>\n",
       "    </tr>\n",
       "  </thead>\n",
       "  <tbody>\n",
       "    <tr>\n",
       "      <th>0</th>\n",
       "      <td>4038</td>\n",
       "      <td>4014</td>\n",
       "    </tr>\n",
       "    <tr>\n",
       "      <th>1</th>\n",
       "      <td>4032</td>\n",
       "      <td>4027</td>\n",
       "    </tr>\n",
       "    <tr>\n",
       "      <th>2</th>\n",
       "      <td>4019</td>\n",
       "      <td>4026</td>\n",
       "    </tr>\n",
       "    <tr>\n",
       "      <th>3</th>\n",
       "      <td>4023</td>\n",
       "      <td>4003</td>\n",
       "    </tr>\n",
       "    <tr>\n",
       "      <th>4</th>\n",
       "      <td>4018</td>\n",
       "      <td>3997</td>\n",
       "    </tr>\n",
       "    <tr>\n",
       "      <th>...</th>\n",
       "      <td>...</td>\n",
       "      <td>...</td>\n",
       "    </tr>\n",
       "    <tr>\n",
       "      <th>287</th>\n",
       "      <td>4031</td>\n",
       "      <td>4027</td>\n",
       "    </tr>\n",
       "    <tr>\n",
       "      <th>288</th>\n",
       "      <td>4002</td>\n",
       "      <td>4027</td>\n",
       "    </tr>\n",
       "    <tr>\n",
       "      <th>289</th>\n",
       "      <td>4031</td>\n",
       "      <td>4013</td>\n",
       "    </tr>\n",
       "    <tr>\n",
       "      <th>290</th>\n",
       "      <td>4028</td>\n",
       "      <td>3996</td>\n",
       "    </tr>\n",
       "    <tr>\n",
       "      <th>291</th>\n",
       "      <td>3985</td>\n",
       "      <td>4004</td>\n",
       "    </tr>\n",
       "  </tbody>\n",
       "</table>\n",
       "<p>292 rows × 2 columns</p>\n",
       "</div>"
      ],
      "text/plain": [
       "     OriginNode  DestNode\n",
       "0          4038      4014\n",
       "1          4032      4027\n",
       "2          4019      4026\n",
       "3          4023      4003\n",
       "4          4018      3997\n",
       "..          ...       ...\n",
       "287        4031      4027\n",
       "288        4002      4027\n",
       "289        4031      4013\n",
       "290        4028      3996\n",
       "291        3985      4004\n",
       "\n",
       "[292 rows x 2 columns]"
      ]
     },
     "execution_count": 8,
     "metadata": {},
     "output_type": "execute_result"
    }
   ],
   "source": [
    "df1"
   ]
  },
  {
   "cell_type": "code",
   "execution_count": 9,
   "id": "2b56d7f0",
   "metadata": {
    "scrolled": true
   },
   "outputs": [
    {
     "data": {
      "text/html": [
       "<div>\n",
       "<style scoped>\n",
       "    .dataframe tbody tr th:only-of-type {\n",
       "        vertical-align: middle;\n",
       "    }\n",
       "\n",
       "    .dataframe tbody tr th {\n",
       "        vertical-align: top;\n",
       "    }\n",
       "\n",
       "    .dataframe thead th {\n",
       "        text-align: right;\n",
       "    }\n",
       "</style>\n",
       "<table border=\"1\" class=\"dataframe\">\n",
       "  <thead>\n",
       "    <tr style=\"text-align: right;\">\n",
       "      <th></th>\n",
       "      <th>OriginNode</th>\n",
       "      <th>DestNode</th>\n",
       "    </tr>\n",
       "  </thead>\n",
       "  <tbody>\n",
       "    <tr>\n",
       "      <th>0</th>\n",
       "      <td>4038</td>\n",
       "      <td>4014</td>\n",
       "    </tr>\n",
       "    <tr>\n",
       "      <th>1</th>\n",
       "      <td>4032</td>\n",
       "      <td>4027</td>\n",
       "    </tr>\n",
       "    <tr>\n",
       "      <th>2</th>\n",
       "      <td>4019</td>\n",
       "      <td>4026</td>\n",
       "    </tr>\n",
       "    <tr>\n",
       "      <th>3</th>\n",
       "      <td>4023</td>\n",
       "      <td>4003</td>\n",
       "    </tr>\n",
       "    <tr>\n",
       "      <th>4</th>\n",
       "      <td>4018</td>\n",
       "      <td>3997</td>\n",
       "    </tr>\n",
       "  </tbody>\n",
       "</table>\n",
       "</div>"
      ],
      "text/plain": [
       "   OriginNode  DestNode\n",
       "0        4038      4014\n",
       "1        4032      4027\n",
       "2        4019      4026\n",
       "3        4023      4003\n",
       "4        4018      3997"
      ]
     },
     "execution_count": 9,
     "metadata": {},
     "output_type": "execute_result"
    }
   ],
   "source": [
    "df1.head()"
   ]
  },
  {
   "cell_type": "code",
   "execution_count": 11,
   "id": "7a9e368b",
   "metadata": {},
   "outputs": [],
   "source": [
    "df=pd.concat([df,df1])"
   ]
  },
  {
   "cell_type": "code",
   "execution_count": null,
   "id": "94b2b20e",
   "metadata": {},
   "outputs": [],
   "source": [
    "with open('686.edges', 'r') as file:\n",
    "    # Read all the lines of the file into a list\n",
    "    lines = file.readlines()\n",
    "\n",
    "# Print the list of lines\n",
    "print(lines) "
   ]
  },
  {
   "cell_type": "code",
   "execution_count": 12,
   "id": "ce6f6893",
   "metadata": {},
   "outputs": [
    {
     "data": {
      "text/html": [
       "<div>\n",
       "<style scoped>\n",
       "    .dataframe tbody tr th:only-of-type {\n",
       "        vertical-align: middle;\n",
       "    }\n",
       "\n",
       "    .dataframe tbody tr th {\n",
       "        vertical-align: top;\n",
       "    }\n",
       "\n",
       "    .dataframe thead th {\n",
       "        text-align: right;\n",
       "    }\n",
       "</style>\n",
       "<table border=\"1\" class=\"dataframe\">\n",
       "  <thead>\n",
       "    <tr style=\"text-align: right;\">\n",
       "      <th></th>\n",
       "      <th>OriginNode</th>\n",
       "      <th>DestNode</th>\n",
       "    </tr>\n",
       "  </thead>\n",
       "  <tbody>\n",
       "    <tr>\n",
       "      <th>0</th>\n",
       "      <td>827</td>\n",
       "      <td>819</td>\n",
       "    </tr>\n",
       "    <tr>\n",
       "      <th>1</th>\n",
       "      <td>830</td>\n",
       "      <td>826</td>\n",
       "    </tr>\n",
       "    <tr>\n",
       "      <th>2</th>\n",
       "      <td>828</td>\n",
       "      <td>752</td>\n",
       "    </tr>\n",
       "    <tr>\n",
       "      <th>3</th>\n",
       "      <td>756</td>\n",
       "      <td>694</td>\n",
       "    </tr>\n",
       "    <tr>\n",
       "      <th>4</th>\n",
       "      <td>828</td>\n",
       "      <td>728</td>\n",
       "    </tr>\n",
       "    <tr>\n",
       "      <th>...</th>\n",
       "      <td>...</td>\n",
       "      <td>...</td>\n",
       "    </tr>\n",
       "    <tr>\n",
       "      <th>287</th>\n",
       "      <td>4031</td>\n",
       "      <td>4027</td>\n",
       "    </tr>\n",
       "    <tr>\n",
       "      <th>288</th>\n",
       "      <td>4002</td>\n",
       "      <td>4027</td>\n",
       "    </tr>\n",
       "    <tr>\n",
       "      <th>289</th>\n",
       "      <td>4031</td>\n",
       "      <td>4013</td>\n",
       "    </tr>\n",
       "    <tr>\n",
       "      <th>290</th>\n",
       "      <td>4028</td>\n",
       "      <td>3996</td>\n",
       "    </tr>\n",
       "    <tr>\n",
       "      <th>291</th>\n",
       "      <td>3985</td>\n",
       "      <td>4004</td>\n",
       "    </tr>\n",
       "  </tbody>\n",
       "</table>\n",
       "<p>3604 rows × 2 columns</p>\n",
       "</div>"
      ],
      "text/plain": [
       "     OriginNode  DestNode\n",
       "0           827       819\n",
       "1           830       826\n",
       "2           828       752\n",
       "3           756       694\n",
       "4           828       728\n",
       "..          ...       ...\n",
       "287        4031      4027\n",
       "288        4002      4027\n",
       "289        4031      4013\n",
       "290        4028      3996\n",
       "291        3985      4004\n",
       "\n",
       "[3604 rows x 2 columns]"
      ]
     },
     "execution_count": 12,
     "metadata": {},
     "output_type": "execute_result"
    }
   ],
   "source": [
    "df"
   ]
  },
  {
   "cell_type": "code",
   "execution_count": null,
   "id": "56e6eee5",
   "metadata": {},
   "outputs": [],
   "source": [
    "with open('686.edges', 'r') as file:\n",
    "    # Create an empty list to store the lines\n",
    "    lines = []\n",
    "\n",
    "    # Iterate over the lines of the file\n",
    "    for line in file:\n",
    "        # Remove the newline character at the end of the line\n",
    "        line = line.strip()\n",
    "\n",
    "        # Append the line to the list\n",
    "        lines.append(line)\n",
    "\n",
    "# Print the list of lines\n",
    "print(lines)"
   ]
  },
  {
   "cell_type": "code",
   "execution_count": null,
   "id": "52c08a30",
   "metadata": {},
   "outputs": [],
   "source": [
    "df = pd.read_table(\"686.edges\",sep=\" \",header=None)"
   ]
  },
  {
   "cell_type": "code",
   "execution_count": null,
   "id": "dc3dfec8",
   "metadata": {},
   "outputs": [],
   "source": [
    "df=pd.DataFrame\n",
    "#df1=pd.DataFrame\n",
    "df.columns=['OriginNode','DestNode']\n",
    "df1=pd.read_csv(\"686.edges\",sep=\" \",header=None)\n",
    "#df=pd.concat([df, df1], ignore_index=True)\n",
    "#g = nx.read_edgelist(os.path.join(directory, filename))"
   ]
  },
  {
   "cell_type": "code",
   "execution_count": null,
   "id": "5a15b614",
   "metadata": {},
   "outputs": [],
   "source": [
    "df1"
   ]
  },
  {
   "cell_type": "code",
   "execution_count": 13,
   "id": "a0a10236",
   "metadata": {},
   "outputs": [
    {
     "name": "stdout",
     "output_type": "stream",
     "text": [
      "Text replaced\n"
     ]
    }
   ],
   "source": [
    "# creating a variable and storing the text \n",
    "# that we want to search \n",
    "search_text = \",\"\n",
    "  \n",
    "# creating a variable and storing the text \n",
    "# that we want to add \n",
    "replace_text = \" \"\n",
    "  \n",
    "# Opening our text file in read only \n",
    "# mode using the open() function \n",
    "with open(r'686.edges', 'r') as file: \n",
    "  \n",
    "    # Reading the content of the file \n",
    "    # using the read() function and storing \n",
    "    # them in a new variable \n",
    "    data = file.read() \n",
    "  \n",
    "    # Searching and replacing the text \n",
    "    # using the replace() function \n",
    "    data = data.replace(search_text, replace_text) \n",
    "  \n",
    "# Opening our text file in write only \n",
    "# mode to write the replaced content \n",
    "with open(r'686.edges', 'w') as file: \n",
    "  \n",
    "    # Writing the replaced data in our \n",
    "    # text file \n",
    "    file.write(data) \n",
    "  \n",
    "# Printing Text replaced \n",
    "print(\"Text replaced\") "
   ]
  },
  {
   "cell_type": "code",
   "execution_count": null,
   "id": "09a2ec24",
   "metadata": {},
   "outputs": [],
   "source": [
    "df2=pd.read_csv('686.csv')"
   ]
  },
  {
   "cell_type": "code",
   "execution_count": null,
   "id": "a8e39903",
   "metadata": {},
   "outputs": [],
   "source": [
    "df2.head()"
   ]
  },
  {
   "cell_type": "code",
   "execution_count": 21,
   "id": "180395f6",
   "metadata": {},
   "outputs": [],
   "source": [
    "def FileContentSpaceReplace(filepath,search_text,replace_text):\n",
    "    # creating a variable and storing the text \n",
    "    # that we want to search \n",
    "    #search_text = \" \"\n",
    "  \n",
    "    # creating a variable and storing the text \n",
    "    # that we want to add \n",
    "    #replace_text = \",\"\n",
    "  \n",
    "    # Opening our text file in read only \n",
    "    # mode using the open() function \n",
    "    with open(filepath, 'r') as file: \n",
    "  \n",
    "        # Reading the content of the file \n",
    "        # using the read() function and storing \n",
    "        # them in a new variable \n",
    "        data = file.read() \n",
    "  \n",
    "        # Searching and replacing the text \n",
    "        # using the replace() function \n",
    "        data = data.replace(search_text, replace_text) \n",
    "  \n",
    "    # Opening our text file in write only \n",
    "    # mode to write the replaced content \n",
    "    with open(r'686.edges', 'w') as file: \n",
    "  \n",
    "        # Writing the replaced data in our \n",
    "        # text file \n",
    "        file.write(data) \n",
    "  \n",
    "    # Printing Text replaced \n",
    "    print(\"Text replaced\") "
   ]
  },
  {
   "cell_type": "code",
   "execution_count": 22,
   "id": "be696570",
   "metadata": {},
   "outputs": [
    {
     "name": "stdout",
     "output_type": "stream",
     "text": [
      "Text replaced\n"
     ]
    }
   ],
   "source": [
    "FileContentSpaceReplace('686.edges',\",\",\" \")"
   ]
  },
  {
   "cell_type": "code",
   "execution_count": 10,
   "id": "d63af245",
   "metadata": {},
   "outputs": [],
   "source": [
    "import fileinput\n",
    "import sys\n",
    "filename='698 - Copy.edges'\n",
    "ego=Path(filename).stem+\" \"\n",
    "with open(filename, 'r') as f:\n",
    "    lines = f.readlines()\n",
    "lines = [ego+line for line in lines]\n",
    "with open(filename, 'w') as f:\n",
    "    f.writelines(lines)"
   ]
  },
  {
   "cell_type": "code",
   "execution_count": 12,
   "id": "248f15ca",
   "metadata": {},
   "outputs": [],
   "source": [
    "import os\n",
    "from pathlib import Path\n",
    "directory=\"./\"\n",
    "for file in os.listdir(directory):\n",
    "    filename = os.fsdecode(file)\n",
    "    if filename.endswith(\".edges\"): \n",
    "        #Get the name of the ego user whose network we are loading\n",
    "        fpath=os.path.join(directory, filename)\n",
    "        ego=Path(filename).stem+\" \"\n",
    "        with open(filename, 'r') as f:\n",
    "            lines = f.readlines()\n",
    "            f.close()\n",
    "        lines = [ego+line for line in lines]\n",
    "        with open(filename, 'w') as f:\n",
    "            f.writelines(lines)\n",
    "            f.close()\n",
    "        continue\n",
    "    else:\n",
    "        continue"
   ]
  },
  {
   "cell_type": "code",
   "execution_count": 14,
   "id": "a762b3f9",
   "metadata": {},
   "outputs": [],
   "source": [
    "import pandas as pd\n",
    "df1=pd.read_csv('0.edges')\n",
    "df2=pd.read_csv('107.edges')"
   ]
  },
  {
   "cell_type": "code",
   "execution_count": 24,
   "id": "4f093d77",
   "metadata": {},
   "outputs": [
    {
     "data": {
      "text/plain": [
       "<bound method NDFrame.describe of       Ego  OriginNode  DestNode\n",
       "0       0         236       186\n",
       "1       0         122       285\n",
       "2       0          24       346\n",
       "3       0         271       304\n",
       "4       0         176         9\n",
       "...   ...         ...       ...\n",
       "5033    0         171        58\n",
       "5034    0         326        20\n",
       "5035    0          85        75\n",
       "5036    0          98       332\n",
       "5037    0         291       339\n",
       "\n",
       "[5038 rows x 3 columns]>"
      ]
     },
     "execution_count": 24,
     "metadata": {},
     "output_type": "execute_result"
    }
   ],
   "source": [
    "df1.describe"
   ]
  },
  {
   "cell_type": "code",
   "execution_count": 16,
   "id": "049cc8ed",
   "metadata": {},
   "outputs": [
    {
     "data": {
      "text/plain": [
       "Ego           int64\n",
       "OriginNode    int64\n",
       "DestNode      int64\n",
       "dtype: object"
      ]
     },
     "execution_count": 16,
     "metadata": {},
     "output_type": "execute_result"
    }
   ],
   "source": [
    "df1.dtypes"
   ]
  },
  {
   "cell_type": "code",
   "execution_count": 17,
   "id": "8f08b914",
   "metadata": {},
   "outputs": [
    {
     "data": {
      "text/html": [
       "<div>\n",
       "<style scoped>\n",
       "    .dataframe tbody tr th:only-of-type {\n",
       "        vertical-align: middle;\n",
       "    }\n",
       "\n",
       "    .dataframe tbody tr th {\n",
       "        vertical-align: top;\n",
       "    }\n",
       "\n",
       "    .dataframe thead th {\n",
       "        text-align: right;\n",
       "    }\n",
       "</style>\n",
       "<table border=\"1\" class=\"dataframe\">\n",
       "  <thead>\n",
       "    <tr style=\"text-align: right;\">\n",
       "      <th></th>\n",
       "      <th>Ego</th>\n",
       "      <th>OriginNode</th>\n",
       "      <th>DestNode</th>\n",
       "    </tr>\n",
       "  </thead>\n",
       "  <tbody>\n",
       "    <tr>\n",
       "      <th>0</th>\n",
       "      <td>0</td>\n",
       "      <td>236</td>\n",
       "      <td>186</td>\n",
       "    </tr>\n",
       "    <tr>\n",
       "      <th>1</th>\n",
       "      <td>0</td>\n",
       "      <td>122</td>\n",
       "      <td>285</td>\n",
       "    </tr>\n",
       "    <tr>\n",
       "      <th>2</th>\n",
       "      <td>0</td>\n",
       "      <td>24</td>\n",
       "      <td>346</td>\n",
       "    </tr>\n",
       "    <tr>\n",
       "      <th>3</th>\n",
       "      <td>0</td>\n",
       "      <td>271</td>\n",
       "      <td>304</td>\n",
       "    </tr>\n",
       "    <tr>\n",
       "      <th>4</th>\n",
       "      <td>0</td>\n",
       "      <td>176</td>\n",
       "      <td>9</td>\n",
       "    </tr>\n",
       "  </tbody>\n",
       "</table>\n",
       "</div>"
      ],
      "text/plain": [
       "   Ego  OriginNode  DestNode\n",
       "0    0         236       186\n",
       "1    0         122       285\n",
       "2    0          24       346\n",
       "3    0         271       304\n",
       "4    0         176         9"
      ]
     },
     "execution_count": 17,
     "metadata": {},
     "output_type": "execute_result"
    }
   ],
   "source": [
    "df1.head()"
   ]
  },
  {
   "cell_type": "code",
   "execution_count": 18,
   "id": "bb84bb2c",
   "metadata": {},
   "outputs": [
    {
     "data": {
      "text/html": [
       "<div>\n",
       "<style scoped>\n",
       "    .dataframe tbody tr th:only-of-type {\n",
       "        vertical-align: middle;\n",
       "    }\n",
       "\n",
       "    .dataframe tbody tr th {\n",
       "        vertical-align: top;\n",
       "    }\n",
       "\n",
       "    .dataframe thead th {\n",
       "        text-align: right;\n",
       "    }\n",
       "</style>\n",
       "<table border=\"1\" class=\"dataframe\">\n",
       "  <thead>\n",
       "    <tr style=\"text-align: right;\">\n",
       "      <th></th>\n",
       "      <th>Ego</th>\n",
       "      <th>OriginNode</th>\n",
       "      <th>DestNode</th>\n",
       "    </tr>\n",
       "  </thead>\n",
       "  <tbody>\n",
       "    <tr>\n",
       "      <th>0</th>\n",
       "      <td>107</td>\n",
       "      <td>953</td>\n",
       "      <td>1323</td>\n",
       "    </tr>\n",
       "    <tr>\n",
       "      <th>1</th>\n",
       "      <td>107</td>\n",
       "      <td>1789</td>\n",
       "      <td>1707</td>\n",
       "    </tr>\n",
       "    <tr>\n",
       "      <th>2</th>\n",
       "      <td>107</td>\n",
       "      <td>1175</td>\n",
       "      <td>1059</td>\n",
       "    </tr>\n",
       "    <tr>\n",
       "      <th>3</th>\n",
       "      <td>107</td>\n",
       "      <td>1329</td>\n",
       "      <td>1559</td>\n",
       "    </tr>\n",
       "    <tr>\n",
       "      <th>4</th>\n",
       "      <td>107</td>\n",
       "      <td>1804</td>\n",
       "      <td>1898</td>\n",
       "    </tr>\n",
       "  </tbody>\n",
       "</table>\n",
       "</div>"
      ],
      "text/plain": [
       "   Ego  OriginNode  DestNode\n",
       "0  107         953      1323\n",
       "1  107        1789      1707\n",
       "2  107        1175      1059\n",
       "3  107        1329      1559\n",
       "4  107        1804      1898"
      ]
     },
     "execution_count": 18,
     "metadata": {},
     "output_type": "execute_result"
    }
   ],
   "source": [
    "df2.head()"
   ]
  },
  {
   "cell_type": "code",
   "execution_count": 20,
   "id": "9511283c",
   "metadata": {},
   "outputs": [],
   "source": [
    "df=pd.concat([df1,df2])"
   ]
  },
  {
   "cell_type": "code",
   "execution_count": 23,
   "id": "d18e863f",
   "metadata": {},
   "outputs": [
    {
     "data": {
      "text/plain": [
       "<bound method NDFrame.describe of        Ego  OriginNode  DestNode\n",
       "0        0         236       186\n",
       "1        0         122       285\n",
       "2        0          24       346\n",
       "3        0         271       304\n",
       "4        0         176         9\n",
       "...    ...         ...       ...\n",
       "53493  107        1663       946\n",
       "53494  107         171        58\n",
       "53495  107        1523      1520\n",
       "53496  107         993      1609\n",
       "53497  107        1606      1740\n",
       "\n",
       "[58536 rows x 3 columns]>"
      ]
     },
     "execution_count": 23,
     "metadata": {},
     "output_type": "execute_result"
    }
   ],
   "source": [
    "df.describe"
   ]
  },
  {
   "cell_type": "code",
   "execution_count": 22,
   "id": "45fbb59d",
   "metadata": {},
   "outputs": [
    {
     "data": {
      "text/plain": [
       "Ego           int64\n",
       "OriginNode    int64\n",
       "DestNode      int64\n",
       "dtype: object"
      ]
     },
     "execution_count": 22,
     "metadata": {},
     "output_type": "execute_result"
    }
   ],
   "source": [
    "df.dtypes"
   ]
  },
  {
   "cell_type": "code",
   "execution_count": 27,
   "id": "676afd1a",
   "metadata": {},
   "outputs": [],
   "source": [
    "df=pd.read_csv('df_head.csv')\n",
    "import os\n",
    "from pathlib import Path\n",
    "directory=\"./\"\n",
    "for file in os.listdir(directory):\n",
    "    filename = os.fsdecode(file)\n",
    "    if filename.endswith(\".edges\"): \n",
    "        #Get the name of the ego user whose network we are loading\n",
    "        fpath=os.path.join(directory, filename)\n",
    "        df_temp=pd.read_csv(fpath)\n",
    "        df=pd.concat([df,df_temp])\n",
    "        continue\n",
    "    else:\n",
    "        continue"
   ]
  },
  {
   "cell_type": "code",
   "execution_count": 28,
   "id": "d90c8595",
   "metadata": {},
   "outputs": [
    {
     "data": {
      "text/plain": [
       "<bound method NDFrame.describe of      Ego OriginNode DestNode\n",
       "0      0        236      186\n",
       "1      0        122      285\n",
       "2      0         24      346\n",
       "3      0        271      304\n",
       "4      0        176        9\n",
       "..   ...        ...      ...\n",
       "535  698        774      830\n",
       "536  698        800      856\n",
       "537  698        858      881\n",
       "538  698        823      774\n",
       "539  698        830      819\n",
       "\n",
       "[170174 rows x 3 columns]>"
      ]
     },
     "execution_count": 28,
     "metadata": {},
     "output_type": "execute_result"
    }
   ],
   "source": [
    "df.describe"
   ]
  },
  {
   "cell_type": "code",
   "execution_count": 29,
   "id": "c0cf43fb",
   "metadata": {},
   "outputs": [
    {
     "data": {
      "text/html": [
       "<div>\n",
       "<style scoped>\n",
       "    .dataframe tbody tr th:only-of-type {\n",
       "        vertical-align: middle;\n",
       "    }\n",
       "\n",
       "    .dataframe tbody tr th {\n",
       "        vertical-align: top;\n",
       "    }\n",
       "\n",
       "    .dataframe thead th {\n",
       "        text-align: right;\n",
       "    }\n",
       "</style>\n",
       "<table border=\"1\" class=\"dataframe\">\n",
       "  <thead>\n",
       "    <tr style=\"text-align: right;\">\n",
       "      <th></th>\n",
       "      <th>Ego</th>\n",
       "      <th>OriginNode</th>\n",
       "      <th>DestNode</th>\n",
       "    </tr>\n",
       "  </thead>\n",
       "  <tbody>\n",
       "    <tr>\n",
       "      <th>0</th>\n",
       "      <td>0</td>\n",
       "      <td>236</td>\n",
       "      <td>186</td>\n",
       "    </tr>\n",
       "    <tr>\n",
       "      <th>1</th>\n",
       "      <td>0</td>\n",
       "      <td>122</td>\n",
       "      <td>285</td>\n",
       "    </tr>\n",
       "    <tr>\n",
       "      <th>2</th>\n",
       "      <td>0</td>\n",
       "      <td>24</td>\n",
       "      <td>346</td>\n",
       "    </tr>\n",
       "    <tr>\n",
       "      <th>3</th>\n",
       "      <td>0</td>\n",
       "      <td>271</td>\n",
       "      <td>304</td>\n",
       "    </tr>\n",
       "    <tr>\n",
       "      <th>4</th>\n",
       "      <td>0</td>\n",
       "      <td>176</td>\n",
       "      <td>9</td>\n",
       "    </tr>\n",
       "  </tbody>\n",
       "</table>\n",
       "</div>"
      ],
      "text/plain": [
       "  Ego OriginNode DestNode\n",
       "0   0        236      186\n",
       "1   0        122      285\n",
       "2   0         24      346\n",
       "3   0        271      304\n",
       "4   0        176        9"
      ]
     },
     "execution_count": 29,
     "metadata": {},
     "output_type": "execute_result"
    }
   ],
   "source": [
    "df.head()"
   ]
  },
  {
   "cell_type": "code",
   "execution_count": null,
   "id": "72bd856f",
   "metadata": {},
   "outputs": [],
   "source": []
  }
 ],
 "metadata": {
  "kernelspec": {
   "display_name": "Python 3 (ipykernel)",
   "language": "python",
   "name": "python3"
  },
  "language_info": {
   "codemirror_mode": {
    "name": "ipython",
    "version": 3
   },
   "file_extension": ".py",
   "mimetype": "text/x-python",
   "name": "python",
   "nbconvert_exporter": "python",
   "pygments_lexer": "ipython3",
   "version": "3.11.5"
  }
 },
 "nbformat": 4,
 "nbformat_minor": 5
}
