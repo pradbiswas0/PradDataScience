{
 "cells": [
  {
   "cell_type": "markdown",
   "id": "13eb853a-4ebf-4ad1-9ace-b95e23e6e8df",
   "metadata": {},
   "source": [
    "## Large language model project using Retrieval Augmented Generation (RAG) to provide more contextual, up to date results"
   ]
  },
  {
   "cell_type": "markdown",
   "id": "aec5e23c-d10c-4683-8fc9-c3156f0e19fe",
   "metadata": {},
   "source": [
    "### The dataset (source: Kaggle.com)\n",
    "#### This dataset consists of reviews of Fine Foods from amazon. The data span a period of more than 10 years, including all ~500,000 reviews up to October 2012. Reviews include product and user information, ratings, and a plain text review. It also includes reviews from all other Amazon categories.\n",
    "#### Columns: Id,ProductId,UserId,ProfileName,HelpfulnessNumerator,HelpfulnessDenominator,Score,Time,Summary,Text"
   ]
  },
  {
   "cell_type": "markdown",
   "id": "412c0892-d129-47aa-b99d-56ced2d18b5f",
   "metadata": {},
   "source": [
    "#### Objective: Use RAG to generate sumnmaries of customer comments on specific topics"
   ]
  },
  {
   "cell_type": "code",
   "execution_count": 1,
   "id": "6a628b97-15af-45cd-8dc1-5591b5af7510",
   "metadata": {},
   "outputs": [],
   "source": [
    "import fireworks.client\n",
    "import os\n",
    "import dotenv\n",
    "import chromadb\n",
    "import json\n",
    "from tqdm.auto import tqdm\n",
    "import pandas as pd\n",
    "import random\n",
    "from chromadb import Documents, EmbeddingFunction, Embeddings\n",
    "from sentence_transformers import SentenceTransformer\n",
    "\n",
    "# you can set envs using Colab secrets\n",
    "dotenv.load_dotenv()\n",
    "\n",
    "fireworks.client.api_key = 'KTGKcoCndQttxHOjG4cYALmEXR0ByhYBgtrozJesElA5eJ2A'"
   ]
  },
  {
   "cell_type": "markdown",
   "id": "6287afe3-90c9-440a-a1c5-b3f4f9a554a7",
   "metadata": {},
   "source": [
    "##### Define function to use an open-source LLM to do decoding. Retrieval-augmented generation (RAG) is a technique for enhancing the accuracy and reliability of generative AI models with facts fetched from external sources."
   ]
  },
  {
   "cell_type": "code",
   "execution_count": 7,
   "id": "bc1af1bf-1c86-4c64-88f1-2658e6972c0f",
   "metadata": {},
   "outputs": [],
   "source": [
    "def get_completion(prompt, model=None, max_tokens=50):\n",
    "\n",
    "    fw_model_dir = \"accounts/fireworks/models/\"\n",
    "\n",
    "    if model is None:\n",
    "        model = fw_model_dir + \"llama-v2-7b\"\n",
    "    else:\n",
    "        model = fw_model_dir + model\n",
    "\n",
    "    completion = fireworks.client.Completion.create(\n",
    "        model=model,\n",
    "        prompt=prompt,\n",
    "        max_tokens=max_tokens,\n",
    "        temperature=0\n",
    "    )\n",
    "\n",
    "    return completion.choices[0].text"
   ]
  },
  {
   "cell_type": "markdown",
   "id": "9e2a4432-dcb9-4aff-8bae-fef5c86cda4c",
   "metadata": {},
   "source": [
    "#### RAG consists of a couple of major components: 1) an encoded knowledge base 2) any query text is then encoded and a search is done against the knowledgebase returning relevant contextual results 3) the results are then submitted to an LLM to create the final output"
   ]
  },
  {
   "cell_type": "markdown",
   "id": "b378c001-f083-4f04-a9c1-fe083a125da2",
   "metadata": {},
   "source": [
    "##### Please refer to separate file CreateCommentEmbeddings.py for encoding and creating vector embeddings of the summary and detailed comment fields. This is then stored in a ChromaDB collection. ChromaDB is a specialised datastore for storing, retrieving and searching for embeddings."
   ]
  },
  {
   "cell_type": "markdown",
   "id": "57de000f-ddb8-432a-ae48-63ce86bff2fe",
   "metadata": {},
   "source": [
    "##### Tried a few different models (such as all-MiniLM-L6-v2) within Sentence Transformer but got best results (most relevant search results) from all-mpnet-base-v2"
   ]
  },
  {
   "cell_type": "markdown",
   "id": "b6041c84-1195-4ef3-8acd-a11ad61a3906",
   "metadata": {},
   "source": [
    "##### Now we try and query the ChromaDB collection to see the sorts of results we can get"
   ]
  },
  {
   "cell_type": "code",
   "execution_count": 5,
   "id": "3199b547-9479-4232-acb8-afb5c9b42878",
   "metadata": {},
   "outputs": [
    {
     "name": "stdout",
     "output_type": "stream",
     "text": [
      "{'ids': [['1549', '6504', '3104', '4158', '1545']], 'distances': [[0.7743430137634277, 0.7746836543083191, 0.7987347841262817, 0.8155220746994019, 0.8267775774002075]], 'metadatas': [[None, None, None, None, None]], 'embeddings': None, 'documents': [[\"Gluten free goodness.Very tasty gluten-free option.  My kids loved it as it wasn't too spicy.\", 'not gluten free.be careful...even though this is listed under gluten free section it is NOT gluten free', 'Not Gluten Free!!!!!!.Even though this item is listed under the Gluten free category, it is not.  The ingredients state that it contains wheat protein.  Do not order this if you need GF food.  Bad reviewing by Amazon!', 'Great gluten free product.As far as gluten free products this is awesome.  I use it as a substitute for any recipe that asks for flour.  It makes great pumpkin waffles.', 'Now containing gluten!.A year or so ago, I use to buy these quite often because they were gluten-free.  Last month I decided to order some again and this product no longer says \"gluten-free\" on the packaging and contains wheat.  I didn\\'t want them to go to waste, so I ate one anyway.  I became very sick.  I do enjoy this product but will not be purchasing again because of the wheat.  Just a warning for those of you who also have issues with wheat/gluten.']], 'uris': None, 'data': None}\n"
     ]
    }
   ],
   "source": [
    "collection = client.get_or_create_collection(\n",
    "    name=f\"amazon_ff_comments2\",\n",
    "    embedding_function=embed_fn\n",
    ")\n",
    "\n",
    "retriever_results = collection.query(\n",
    "    query_texts=[\"gluten\"],\n",
    "    n_results=5,\n",
    ")\n",
    "\n",
    "print(retriever_results)"
   ]
  },
  {
   "cell_type": "markdown",
   "id": "3251eae9-aced-4074-a186-69be6d14a5b4",
   "metadata": {},
   "source": [
    "##### Results look fairly relevant, I tried with a few different terms like \"dog food\", \"coffee\", etc."
   ]
  },
  {
   "cell_type": "markdown",
   "id": "8c63bad4-4306-4550-bde6-f28732662fe2",
   "metadata": {},
   "source": [
    "##### Now we put together the rest of the solution where we take a search term, retrieve results from the collection (i.e. non-parametric values) and then pass it to an LLM (which has the parametric values) to get a final output of readable summary of results."
   ]
  },
  {
   "cell_type": "code",
   "execution_count": 9,
   "id": "cf132107-6fd0-4efb-8944-8a6bde177e8d",
   "metadata": {},
   "outputs": [
    {
     "name": "stdout",
     "output_type": "stream",
     "text": [
      "Summarised comments:\n",
      "\n",
      "* The first commenter is happy with the new dog food they tried and wishes there were more coupons available for it.\n",
      "* The second commenter tried the new dog food but found it to be unflavorful and not as easy to serve as they had hoped. They also criticized the lack of science behind the brand compared to higher-end brands like Royal Canine.\n",
      "* The third commenter praises the new dog food as the only brand that their dog with allergies can eat.\n",
      "* The fourth commenter mentions that the dogs on their Christmas list enjoyed the dog treats and ate them right away.\n",
      "* The fifth commenter praises the new dog food as being healthy and good for digestion, as well as suitable for small puppies. They also mention that their dog eats their required amount at every feeding.\n",
      "\n",
      "\n",
      "\n",
      "Prompt Template:\n",
      "[INST]\n",
      "\n",
      "Generate a summary of comments\n",
      "\n",
      "Topic: dog food\n",
      "Results: DOG FOOD.This was a new food for my dog, and he seems to have adjusted very well to this product. Thank you, and I wish there were more coupons available for this item.\n",
      "Doggy Prison Food.I feed my dog Royal Canine brand which I typically have to mix with chicken stick or wet canned food for her to eat - I thought this stuff would be more flavorful and easy to serve.  Upon opening I could tell I made a mistake - smells like cardboard - my dog won't eat it no matter how I dress it up, much less could I get her to eat it plain.  Plus, it has none of the science behind it like higher end brands like Royal Canine - the Newman brand is spreading itself too thin here - they should stick with pasta sauce.\n",
      "Great dog food.This is great dog food, my dog has severs allergies and this brand is the only one that we can feed him.\n",
      "Dog Treats.All the dogs on my Christmas list loved this. They ate it right away\n",
      "Healthy Dog Food.This is a very healthy dog food. Good for their digestion. Also good for small puppies. My dog eats her required amount at every feeding.\n",
      "\n",
      "Comments:\n",
      "\n",
      "[/INST]\n",
      "\n"
     ]
    }
   ],
   "source": [
    "collection = client.get_or_create_collection(\n",
    "    name=f\"amazon_ff_comments2\",\n",
    "    embedding_function=embed_fn\n",
    ")\n",
    "\n",
    "# user query\n",
    "query_text=\"dog food\"\n",
    "encoded_user_query= embedding_model1.encode(query_text)\n",
    "user_query=encoded_user_query.tolist()\n",
    "\n",
    "retriever_results = collection.query(\n",
    "    query_embeddings=user_query,\n",
    "    n_results=5,\n",
    ")\n",
    "\n",
    "# concatenate titles into a single string\n",
    "results = '\\n'.join(retriever_results['documents'][0])\n",
    "\n",
    "prompt_template = f'''[INST]\n",
    "\n",
    "Generate a summary of comments\n",
    "\n",
    "Topic: {query_text}\n",
    "Results: {results}\n",
    "\n",
    "Comments:\n",
    "\n",
    "[/INST]\n",
    "'''\n",
    "mistral_llm = \"mistral-7b-instruct-4k\"\n",
    "responses = get_completion(prompt_template, mistral_llm, max_tokens=10000)\n",
    "comment_summary = ''.join([str(r) for r in responses])\n",
    "\n",
    "# Print the suggestions.\n",
    "print(\"Summarised comments:\")\n",
    "print(responses)\n",
    "print(\"\\n\\n\\nPrompt Template:\")\n",
    "print(prompt_template)"
   ]
  },
  {
   "cell_type": "code",
   "execution_count": null,
   "id": "4413273d-cab6-4a2e-8057-32b1830d2a57",
   "metadata": {},
   "outputs": [],
   "source": []
  }
 ],
 "metadata": {
  "kernelspec": {
   "display_name": "Python 3 (ipykernel)",
   "language": "python",
   "name": "python3"
  },
  "language_info": {
   "codemirror_mode": {
    "name": "ipython",
    "version": 3
   },
   "file_extension": ".py",
   "mimetype": "text/x-python",
   "name": "python",
   "nbconvert_exporter": "python",
   "pygments_lexer": "ipython3",
   "version": "3.11.5"
  }
 },
 "nbformat": 4,
 "nbformat_minor": 5
}
