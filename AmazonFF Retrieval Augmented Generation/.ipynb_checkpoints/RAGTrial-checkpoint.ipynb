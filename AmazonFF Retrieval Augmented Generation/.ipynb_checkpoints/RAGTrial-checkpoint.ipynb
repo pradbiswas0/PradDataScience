{
 "cells": [
  {
   "cell_type": "code",
   "execution_count": 1,
   "id": "6a628b97-15af-45cd-8dc1-5591b5af7510",
   "metadata": {},
   "outputs": [],
   "source": [
    "import fireworks.client\n",
    "import os\n",
    "import dotenv\n",
    "import chromadb\n",
    "import json\n",
    "from tqdm.auto import tqdm\n",
    "import pandas as pd\n",
    "import random\n",
    "from chromadb import Documents, EmbeddingFunction, Embeddings\n",
    "from sentence_transformers import SentenceTransformer\n",
    "\n",
    "# you can set envs using Colab secrets\n",
    "dotenv.load_dotenv()\n",
    "\n",
    "fireworks.client.api_key = 'KTGKcoCndQttxHOjG4cYALmEXR0ByhYBgtrozJesElA5eJ2A'"
   ]
  },
  {
   "cell_type": "code",
   "execution_count": 7,
   "id": "bc1af1bf-1c86-4c64-88f1-2658e6972c0f",
   "metadata": {},
   "outputs": [],
   "source": [
    "def get_completion(prompt, model=None, max_tokens=50):\n",
    "\n",
    "    fw_model_dir = \"accounts/fireworks/models/\"\n",
    "\n",
    "    if model is None:\n",
    "        model = fw_model_dir + \"llama-v2-7b\"\n",
    "    else:\n",
    "        model = fw_model_dir + model\n",
    "\n",
    "    completion = fireworks.client.Completion.create(\n",
    "        model=model,\n",
    "        prompt=prompt,\n",
    "        max_tokens=max_tokens,\n",
    "        temperature=0\n",
    "    )\n",
    "\n",
    "    return completion.choices[0].text"
   ]
  },
  {
   "cell_type": "code",
   "execution_count": null,
   "id": "dc5e998a-1640-47aa-a274-db7a44873fec",
   "metadata": {},
   "outputs": [],
   "source": [
    "# load dataset from data/ folder to pandas dataframe\n",
    "# dataset contains column names\n",
    "\n",
    "df_amazon = pd.read_csv('reviews.csv')\n",
    "\n",
    "# remove rows with empty titles or descriptions\n",
    "df_comments=df_amazon.drop(['ProductId','UserId','ProfileName','HelpfulnessNumerator','HelpfulnessDenominator','Score','Time'],axis=1)"
   ]
  },
  {
   "cell_type": "code",
   "execution_count": null,
   "id": "786d774a-03ff-4fa8-807e-7be03a35fcfb",
   "metadata": {},
   "outputs": [],
   "source": [
    "# Process the first 2000 comments\n",
    "df_comments_reduced=df_comments[:10000]"
   ]
  },
  {
   "cell_type": "code",
   "execution_count": null,
   "id": "a27e4c02-8b0a-41ce-ad9e-30a5275811f2",
   "metadata": {},
   "outputs": [],
   "source": [
    "# convert dataframe to list of dicts with Id and Text columns only\n",
    "\n",
    "amazon_comments_dict = df_comments_reduced.to_dict(orient=\"records\")"
   ]
  },
  {
   "cell_type": "markdown",
   "id": "832a4fff-de23-4c7b-96a5-22700fae6c31",
   "metadata": {},
   "source": [
    "##### We will be using SentenceTransformer (all-MiniLM-L6-v2) for generating embeddings that we will store to a chroma document store."
   ]
  },
  {
   "cell_type": "code",
   "execution_count": null,
   "id": "94c62211-b293-4bbf-b1d5-92749d3a57fc",
   "metadata": {},
   "outputs": [],
   "source": [
    "embedding_model = SentenceTransformer('all-MiniLM-L6-v2')\n",
    "\n",
    "class MyEmbeddingFunction(EmbeddingFunction):\n",
    "    def __call__(self, input: Documents) -> Embeddings:\n",
    "        batch_embeddings = embedding_model.encode(input)\n",
    "        return batch_embeddings.tolist()\n",
    "\n",
    "embed_fn = MyEmbeddingFunction()\n",
    "\n",
    "# Initialize the chromadb directory, and client.\n",
    "client = chromadb.PersistentClient(path=\"./chromadb\")\n",
    "\n",
    "# create collection\n",
    "collection = client.get_or_create_collection(\n",
    "    name=f\"amazon_ff_comments\"\n",
    ")"
   ]
  },
  {
   "cell_type": "markdown",
   "id": "a30a2bf0-c490-425e-b587-36bb67c3af96",
   "metadata": {},
   "source": [
    "##### Generate embeddings in batches:"
   ]
  },
  {
   "cell_type": "code",
   "execution_count": null,
   "id": "d5b82387-0d6a-47c7-bd83-ae1cd255a5c7",
   "metadata": {},
   "outputs": [],
   "source": [
    "# Generate embeddings, and index titles in batches\n",
    "batch_size = 50\n",
    "\n",
    "# loop through batches and generated + store embeddings\n",
    "for i in tqdm(range(0, len(amazon_comments_dict), batch_size)):\n",
    "\n",
    "    i_end = min(i + batch_size, len(amazon_comments_dict))\n",
    "    batch = amazon_comments_dict[i : i + batch_size]\n",
    "\n",
    "    # Replace title with \"No Title\" if empty string\n",
    "    #batch_titles = [str(comment[\"Summary\"]) if str(comment[\"Summary\"]) != \"\" else \"No Title\" for comment in batch]\n",
    "    batch_titles = [str(comment[\"Summary\"]+\".\"+comment[\"Text\"]) for comment in batch]\n",
    "    batch_ids = [str(comment[\"Id\"]) for comment in batch]\n",
    "\n",
    "    # generate embeddings\n",
    "    batch_embeddings = embedding_model.encode(batch_comments)\n",
    "\n",
    "    # upsert to chromadb\n",
    "    collection.upsert(\n",
    "        ids=batch_ids,\n",
    "        documents=batch_titles,\n",
    "        embeddings=batch_embeddings.tolist(),\n",
    "    )"
   ]
  },
  {
   "cell_type": "code",
   "execution_count": null,
   "id": "4c5e4831-8f04-4a73-826b-238f8bf6dc2f",
   "metadata": {},
   "outputs": [],
   "source": [
    "collection = client.get_or_create_collection(\n",
    "    name=f\"amazon_ff_comments\",\n",
    "    embedding_function=embed_fn\n",
    ")\n",
    "\n",
    "retriever_results = collection.query(\n",
    "    query_texts=[\"dog\"],\n",
    "    n_results=5,\n",
    ")\n",
    "\n",
    "print(retriever_results)"
   ]
  },
  {
   "cell_type": "markdown",
   "id": "5d9e0666-463e-49d9-981f-215a4b11bba0",
   "metadata": {},
   "source": [
    "##### Let's try with the all-mpnet-base-v2 model for encoding"
   ]
  },
  {
   "cell_type": "code",
   "execution_count": 2,
   "id": "bdf918f6-1861-465e-8f3a-74e257961a6c",
   "metadata": {},
   "outputs": [],
   "source": [
    "embedding_model1 = SentenceTransformer('all-mpnet-base-v2')\n",
    "class MyEmbeddingFunction1(EmbeddingFunction):\n",
    "    def __call__(self, input: Documents) -> Embeddings:\n",
    "        batch_embeddings1 = embedding_model1.encode(input)\n",
    "        return batch_embeddings1.tolist()\n",
    "\n",
    "embed_fn = MyEmbeddingFunction1()\n",
    "\n",
    "# Initialize the chromadb directory, and client.\n",
    "client = chromadb.PersistentClient(path=\"./chromadb\")\n",
    "\n",
    "# create collection\n",
    "collection = client.get_or_create_collection(\n",
    "    name=f\"amazon_ff_comments2\",\n",
    "    embedding_function=embed_fn\n",
    ")"
   ]
  },
  {
   "cell_type": "code",
   "execution_count": null,
   "id": "7668d8c0-ed22-46cb-bd46-8c2a2731b043",
   "metadata": {},
   "outputs": [],
   "source": [
    "# Generate embeddings, and index titles in batches\n",
    "batch_size = 50\n",
    "\n",
    "# loop through batches and generated + store embeddings\n",
    "for i in tqdm(range(0, len(amazon_comments_dict), batch_size)):\n",
    "\n",
    "    i_end = min(i + batch_size, len(amazon_comments_dict))\n",
    "    batch = amazon_comments_dict[i : i + batch_size]\n",
    "\n",
    "    # Replace title with \"No Title\" if empty string\n",
    "    #batch_titles = [str(comment[\"Summary\"]) if str(comment[\"Summary\"]) != \"\" else \"No Title\" for comment in batch]\n",
    "    batch_titles = [str(comment[\"Summary\"]+\".\"+comment[\"Text\"]) for comment in batch]\n",
    "    batch_ids = [str(comment[\"Id\"]) for comment in batch]\n",
    "\n",
    "    # generate embeddings\n",
    "    batch_embeddings1 = embedding_model1.encode(batch_titles)\n",
    "\n",
    "    # upsert to chromadb\n",
    "    collection.upsert(\n",
    "        ids=batch_ids,\n",
    "        documents=batch_titles,\n",
    "        embeddings=batch_embeddings1.tolist(),\n",
    "    )"
   ]
  },
  {
   "cell_type": "code",
   "execution_count": 5,
   "id": "3199b547-9479-4232-acb8-afb5c9b42878",
   "metadata": {},
   "outputs": [
    {
     "name": "stdout",
     "output_type": "stream",
     "text": [
      "{'ids': [['1549', '6504', '3104', '4158', '1545']], 'distances': [[0.7743430137634277, 0.7746836543083191, 0.7987347841262817, 0.8155220746994019, 0.8267775774002075]], 'metadatas': [[None, None, None, None, None]], 'embeddings': None, 'documents': [[\"Gluten free goodness.Very tasty gluten-free option.  My kids loved it as it wasn't too spicy.\", 'not gluten free.be careful...even though this is listed under gluten free section it is NOT gluten free', 'Not Gluten Free!!!!!!.Even though this item is listed under the Gluten free category, it is not.  The ingredients state that it contains wheat protein.  Do not order this if you need GF food.  Bad reviewing by Amazon!', 'Great gluten free product.As far as gluten free products this is awesome.  I use it as a substitute for any recipe that asks for flour.  It makes great pumpkin waffles.', 'Now containing gluten!.A year or so ago, I use to buy these quite often because they were gluten-free.  Last month I decided to order some again and this product no longer says \"gluten-free\" on the packaging and contains wheat.  I didn\\'t want them to go to waste, so I ate one anyway.  I became very sick.  I do enjoy this product but will not be purchasing again because of the wheat.  Just a warning for those of you who also have issues with wheat/gluten.']], 'uris': None, 'data': None}\n"
     ]
    }
   ],
   "source": [
    "collection = client.get_or_create_collection(\n",
    "    name=f\"amazon_ff_comments2\",\n",
    "    embedding_function=embed_fn\n",
    ")\n",
    "\n",
    "retriever_results = collection.query(\n",
    "    query_texts=[\"gluten\"],\n",
    "    n_results=5,\n",
    ")\n",
    "\n",
    "print(retriever_results)"
   ]
  },
  {
   "cell_type": "code",
   "execution_count": null,
   "id": "e8246775-2284-402e-87fd-becb97018a41",
   "metadata": {},
   "outputs": [],
   "source": [
    "query_text=\"coffee\"\n",
    "encoded_user_query= embedding_model1.encode(query_text)\n",
    "user_query=encoded_user_query.tolist()"
   ]
  },
  {
   "cell_type": "code",
   "execution_count": null,
   "id": "5befe6b8-16dd-4bd2-94b7-112579ef42f2",
   "metadata": {},
   "outputs": [],
   "source": [
    "encoded_user_query.tolist()"
   ]
  },
  {
   "cell_type": "code",
   "execution_count": null,
   "id": "e89dc3a8-0e52-4e79-9ad3-f21b340af248",
   "metadata": {},
   "outputs": [],
   "source": [
    "collection = client.get_or_create_collection(\n",
    "    name=f\"amazon_ff_comments1\",\n",
    "    embedding_function=embed_fn\n",
    ")"
   ]
  },
  {
   "cell_type": "code",
   "execution_count": null,
   "id": "e23c606f-9876-43c4-8160-6e8fbcd13d04",
   "metadata": {},
   "outputs": [],
   "source": [
    "retriever_results = collection.query(\n",
    "    query_embeddings=user_query,\n",
    "    n_results=5,\n",
    ")\n",
    "\n",
    "print(retriever_results)"
   ]
  },
  {
   "cell_type": "code",
   "execution_count": 9,
   "id": "cf132107-6fd0-4efb-8944-8a6bde177e8d",
   "metadata": {},
   "outputs": [
    {
     "name": "stdout",
     "output_type": "stream",
     "text": [
      "Summarised comments:\n",
      "\n",
      "* The first commenter is happy with the new dog food they tried and wishes there were more coupons available for it.\n",
      "* The second commenter tried the new dog food but found it to be unflavorful and not as easy to serve as they had hoped. They also criticized the lack of science behind the brand compared to higher-end brands like Royal Canine.\n",
      "* The third commenter praises the new dog food as the only brand that their dog with allergies can eat.\n",
      "* The fourth commenter mentions that the dogs on their Christmas list enjoyed the dog treats and ate them right away.\n",
      "* The fifth commenter praises the new dog food as being healthy and good for digestion, as well as suitable for small puppies. They also mention that their dog eats their required amount at every feeding.\n",
      "\n",
      "\n",
      "\n",
      "Prompt Template:\n",
      "[INST]\n",
      "\n",
      "Generate a summary of comments\n",
      "\n",
      "Topic: dog food\n",
      "Results: DOG FOOD.This was a new food for my dog, and he seems to have adjusted very well to this product. Thank you, and I wish there were more coupons available for this item.\n",
      "Doggy Prison Food.I feed my dog Royal Canine brand which I typically have to mix with chicken stick or wet canned food for her to eat - I thought this stuff would be more flavorful and easy to serve.  Upon opening I could tell I made a mistake - smells like cardboard - my dog won't eat it no matter how I dress it up, much less could I get her to eat it plain.  Plus, it has none of the science behind it like higher end brands like Royal Canine - the Newman brand is spreading itself too thin here - they should stick with pasta sauce.\n",
      "Great dog food.This is great dog food, my dog has severs allergies and this brand is the only one that we can feed him.\n",
      "Dog Treats.All the dogs on my Christmas list loved this. They ate it right away\n",
      "Healthy Dog Food.This is a very healthy dog food. Good for their digestion. Also good for small puppies. My dog eats her required amount at every feeding.\n",
      "\n",
      "Comments:\n",
      "\n",
      "[/INST]\n",
      "\n"
     ]
    }
   ],
   "source": [
    "collection = client.get_or_create_collection(\n",
    "    name=f\"amazon_ff_comments2\",\n",
    "    embedding_function=embed_fn\n",
    ")\n",
    "\n",
    "# user query\n",
    "query_text=\"dog food\"\n",
    "encoded_user_query= embedding_model1.encode(query_text)\n",
    "user_query=encoded_user_query.tolist()\n",
    "\n",
    "retriever_results = collection.query(\n",
    "    query_embeddings=user_query,\n",
    "    n_results=5,\n",
    ")\n",
    "\n",
    "# concatenate titles into a single string\n",
    "results = '\\n'.join(retriever_results['documents'][0])\n",
    "\n",
    "prompt_template = f'''[INST]\n",
    "\n",
    "Generate a summary of comments\n",
    "\n",
    "Topic: {query_text}\n",
    "Results: {results}\n",
    "\n",
    "Comments:\n",
    "\n",
    "[/INST]\n",
    "'''\n",
    "mistral_llm = \"mistral-7b-instruct-4k\"\n",
    "responses = get_completion(prompt_template, mistral_llm, max_tokens=10000)\n",
    "comment_summary = ''.join([str(r) for r in responses])\n",
    "\n",
    "# Print the suggestions.\n",
    "print(\"Summarised comments:\")\n",
    "print(responses)\n",
    "print(\"\\n\\n\\nPrompt Template:\")\n",
    "print(prompt_template)"
   ]
  },
  {
   "cell_type": "code",
   "execution_count": null,
   "id": "4413273d-cab6-4a2e-8057-32b1830d2a57",
   "metadata": {},
   "outputs": [],
   "source": []
  }
 ],
 "metadata": {
  "kernelspec": {
   "display_name": "Python 3 (ipykernel)",
   "language": "python",
   "name": "python3"
  },
  "language_info": {
   "codemirror_mode": {
    "name": "ipython",
    "version": 3
   },
   "file_extension": ".py",
   "mimetype": "text/x-python",
   "name": "python",
   "nbconvert_exporter": "python",
   "pygments_lexer": "ipython3",
   "version": "3.11.5"
  }
 },
 "nbformat": 4,
 "nbformat_minor": 5
}
